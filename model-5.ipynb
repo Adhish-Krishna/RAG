{
 "cells": [
  {
   "cell_type": "code",
   "execution_count": 1,
   "metadata": {},
   "outputs": [],
   "source": [
    "import os\n",
    "import pdfplumber\n",
    "import fitz  # PyMuPDF\n",
    "import pandas as pd\n",
    "\n",
    "# Directories\n",
    "pdf_folder = 'data/'\n",
    "text_output_folder = 'output/text/'\n",
    "images_output_folder = 'output/images/'\n",
    "tables_output_folder = 'output/tables/'\n",
    "\n",
    "# Ensure output folders exist\n",
    "os.makedirs(text_output_folder, exist_ok=True)\n",
    "os.makedirs(images_output_folder, exist_ok=True)\n",
    "os.makedirs(tables_output_folder, exist_ok=True)\n",
    "\n",
    "# Function to extract text, images, and tables from a PDF\n",
    "def process_pdf(pdf_path, pdf_name):\n",
    "    # Extract text and tables using pdfplumber\n",
    "    with pdfplumber.open(pdf_path) as pdf:\n",
    "        text = \"\"\n",
    "        for page in pdf.pages:\n",
    "            text += page.extract_text() or \"\"\n",
    "            \n",
    "            # Extract tables\n",
    "            tables = page.extract_tables()\n",
    "            for i, table in enumerate(tables):\n",
    "                df = pd.DataFrame(table[1:], columns=table[0])\n",
    "                df.to_csv(os.path.join(tables_output_folder, f\"{pdf_name}_table_{page.page_number + 1}_{i}.csv\"), index=False)\n",
    "    \n",
    "    # Save text\n",
    "    with open(os.path.join(text_output_folder, f\"{pdf_name}.txt\"), 'w', encoding='utf-8') as text_file:\n",
    "        text_file.write(text)\n",
    "    \n",
    "    # Extract images using PyMuPDF\n",
    "    pdf_document = fitz.open(pdf_path)\n",
    "    for page_num in range(len(pdf_document)):\n",
    "        page = pdf_document.load_page(page_num)\n",
    "        images = page.get_images(full=True)\n",
    "        for img_index, img in enumerate(images):\n",
    "            xref = img[0]\n",
    "            base_image = pdf_document.extract_image(xref)\n",
    "            image_bytes = base_image[\"image\"]\n",
    "            image_filename = os.path.join(images_output_folder, f\"{pdf_name}_page_{page_num + 1}_img_{img_index + 1}.png\")\n",
    "            with open(image_filename, 'wb') as img_file:\n",
    "                img_file.write(image_bytes)\n",
    "    \n",
    "    pdf_document.close()\n",
    "\n",
    "# Process all PDFs in the folder\n",
    "for pdf_name in os.listdir(pdf_folder):\n",
    "    if pdf_name.endswith('.pdf'):\n",
    "        process_pdf(os.path.join(pdf_folder, pdf_name), os.path.splitext(pdf_name)[0])\n"
   ]
  },
  {
   "cell_type": "code",
   "execution_count": 1,
   "metadata": {},
   "outputs": [
    {
     "name": "stdout",
     "output_type": "stream",
     "text": [
      "Text extracted and saved to anatomy_vol_1.txt\n"
     ]
    }
   ],
   "source": [
    "import pytesseract\n",
    "from pdf2image import convert_from_path\n",
    "from PIL import Image\n",
    "import os\n",
    "\n",
    "# Set path to the Tesseract executable if it's not in your PATH\n",
    "# pytesseract.pytesseract.tesseract_cmd = r'C:\\Program Files\\Tesseract-OCR\\tesseract.exe'\n",
    "\n",
    "# Directories\n",
    "pdf_path = \"data/anatomy_vol_1.pdf\"\n",
    "text_output_folder = 'output/text/'\n",
    "os.makedirs(text_output_folder, exist_ok=True)\n",
    "pdf_name = os.path.splitext(os.path.basename(pdf_path))[0]\n",
    "\n",
    "# Convert PDF to images\n",
    "images = convert_from_path(pdf_path)\n",
    "\n",
    "# Extract text from each image using OCR\n",
    "text = \"\"\n",
    "for i, image in enumerate(images):\n",
    "    text += pytesseract.image_to_string(image) + \"\\n\"  # Extract text from image and append to text\n",
    "\n",
    "# Save text to file\n",
    "with open(os.path.join(text_output_folder, f\"{pdf_name}.txt\"), 'w', encoding='utf-8') as text_file:\n",
    "    text_file.write(text)\n",
    "\n",
    "print(f\"Text extracted and saved to {pdf_name}.txt\")\n"
   ]
  },
  {
   "cell_type": "code",
   "execution_count": 2,
   "metadata": {},
   "outputs": [
    {
     "name": "stdout",
     "output_type": "stream",
     "text": [
      "Text extracted and saved to anatomy_vol_2.txt\n"
     ]
    }
   ],
   "source": [
    "import pytesseract\n",
    "from pdf2image import convert_from_path\n",
    "from PIL import Image\n",
    "import os\n",
    "\n",
    "# Set path to the Tesseract executable if it's not in your PATH\n",
    "# pytesseract.pytesseract.tesseract_cmd = r'C:\\Program Files\\Tesseract-OCR\\tesseract.exe'\n",
    "\n",
    "# Directories\n",
    "pdf_path = \"data/anatomy_vol_2.pdf\"\n",
    "text_output_folder = 'output/text/'\n",
    "os.makedirs(text_output_folder, exist_ok=True)\n",
    "pdf_name = os.path.splitext(os.path.basename(pdf_path))[0]\n",
    "\n",
    "# Convert PDF to images\n",
    "images = convert_from_path(pdf_path)\n",
    "\n",
    "# Extract text from each image using OCR\n",
    "text = \"\"\n",
    "for i, image in enumerate(images):\n",
    "    text += pytesseract.image_to_string(image) + \"\\n\"  # Extract text from image and append to text\n",
    "\n",
    "# Save text to file\n",
    "with open(os.path.join(text_output_folder, f\"{pdf_name}.txt\"), 'w', encoding='utf-8') as text_file:\n",
    "    text_file.write(text)\n",
    "\n",
    "print(f\"Text extracted and saved to {pdf_name}.txt\")\n"
   ]
  },
  {
   "cell_type": "code",
   "execution_count": null,
   "metadata": {},
   "outputs": [],
   "source": []
  }
 ],
 "metadata": {
  "kernelspec": {
   "display_name": "RAG",
   "language": "python",
   "name": "python3"
  },
  "language_info": {
   "codemirror_mode": {
    "name": "ipython",
    "version": 3
   },
   "file_extension": ".py",
   "mimetype": "text/x-python",
   "name": "python",
   "nbconvert_exporter": "python",
   "pygments_lexer": "ipython3",
   "version": "3.9.19"
  }
 },
 "nbformat": 4,
 "nbformat_minor": 2
}
